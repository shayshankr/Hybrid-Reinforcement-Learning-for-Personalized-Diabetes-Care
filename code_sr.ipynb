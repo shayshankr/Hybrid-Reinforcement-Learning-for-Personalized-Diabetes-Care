{
  "nbformat": 4,
  "nbformat_minor": 0,
  "metadata": {
    "colab": {
      "provenance": [],
      "include_colab_link": true
    },
    "kernelspec": {
      "name": "python3",
      "display_name": "Python 3"
    },
    "language_info": {
      "name": "python"
    }
  },
  "cells": [
    {
      "cell_type": "markdown",
      "metadata": {
        "id": "view-in-github",
        "colab_type": "text"
      },
      "source": [
        "<a href=\"https://colab.research.google.com/github/shayshankr/Hybrid-Reinforcement-Learning-for-Personalized-Diabetes-Care/blob/main/code_sr.ipynb\" target=\"_parent\"><img src=\"https://colab.research.google.com/assets/colab-badge.svg\" alt=\"Open In Colab\"/></a>"
      ]
    },
    {
      "cell_type": "markdown",
      "source": [
        "## Data Prepration\n"
      ],
      "metadata": {
        "id": "Jt6m9ytLHa-B"
      }
    },
    {
      "cell_type": "code",
      "execution_count": null,
      "metadata": {
        "colab": {
          "base_uri": "https://localhost:8080/"
        },
        "id": "qQwPGMShplF8",
        "outputId": "2c190d4b-175a-4f62-fd38-ce97a798aa81"
      },
      "outputs": [
        {
          "output_type": "stream",
          "name": "stdout",
          "text": [
            "feature_type                           patient_id            datetime  \\\n",
            "0             diabetes-data/Diabetes-Data/data-01 1991-04-21 09:09:00   \n",
            "1             diabetes-data/Diabetes-Data/data-01 1991-04-21 17:08:00   \n",
            "2             diabetes-data/Diabetes-Data/data-01 1991-04-21 22:51:00   \n",
            "3             diabetes-data/Diabetes-Data/data-01 1991-04-22 07:35:00   \n",
            "4             diabetes-data/Diabetes-Data/data-01 1991-04-22 13:40:00   \n",
            "\n",
            "feature_type  glucose  insulin  insulin_norm  glucose_norm  \n",
            "0               100.0     22.0      1.151959     -0.763804  \n",
            "1               119.0      7.0     -0.073814     -0.533646  \n",
            "2               123.0      0.0     -0.645842     -0.485191  \n",
            "3               216.0     23.0      1.233678      0.641375  \n",
            "4               216.0      2.0     -0.482406      0.641375  \n"
          ]
        },
        {
          "output_type": "stream",
          "name": "stderr",
          "text": [
            "/tmp/ipython-input-596867487.py:71: FutureWarning: Series.fillna with 'method' is deprecated and will raise in a future version. Use obj.ffill() or obj.bfill() instead.\n",
            "  pivot_df['glucose'] = pivot_df['glucose'].fillna(method='ffill')\n",
            "/tmp/ipython-input-596867487.py:74: FutureWarning: A value is trying to be set on a copy of a DataFrame or Series through chained assignment using an inplace method.\n",
            "The behavior will change in pandas 3.0. This inplace method will never work because the intermediate object on which we are setting values always behaves as a copy.\n",
            "\n",
            "For example, when doing 'df[col].method(value, inplace=True)', try using 'df.method({col: value}, inplace=True)' or df[col] = df[col].method(value) instead, to perform the operation inplace on the original object.\n",
            "\n",
            "\n",
            "  pivot_df['glucose'].fillna(pivot_df['glucose'].median(), inplace=True)\n",
            "/usr/local/lib/python3.12/dist-packages/jupyter_client/session.py:151: DeprecationWarning: datetime.datetime.utcnow() is deprecated and scheduled for removal in a future version. Use timezone-aware objects to represent datetimes in UTC: datetime.datetime.now(datetime.UTC).\n",
            "  return datetime.utcnow().replace(tzinfo=utc)\n"
          ]
        }
      ],
      "source": [
        "import zipfile #\n",
        "import pandas as pd #\n",
        "import numpy as np #\n",
        "from sklearn.preprocessing import StandardScaler\n",
        "\n",
        "# Path to your zip archive (update this)\n",
        "zip_path = '/content/diabetes-data.zip'\n",
        "\n",
        "# Codes for insulin and glucose measurements as strings (to match data)\n",
        "insulin_codes = {'33', '34', '35'}\n",
        "glucose_codes = {'48', '57', '58', '59', '60', '61', '62', '63', '64'}\n",
        "\n",
        "def convert_time(row):\n",
        "    try:\n",
        "        # Try parsing date and time string normally\n",
        "        return pd.to_datetime(row['date'] + ' ' + row['time'])\n",
        "    except:\n",
        "        # Handle special logical time labels (e.g., breakfast, lunch) by mapping them to fixed times\n",
        "        logical_times = {'breakfast': '08:00', 'lunch': '12:00', 'dinner': '18:00', 'bedtime': '22:00'}\n",
        "        time_str = row['time'].lower()\n",
        "        if time_str in logical_times:\n",
        "            # Convert date + mapped logical time to datetime\n",
        "            return pd.to_datetime(row['date'] + ' ' + logical_times[time_str])\n",
        "        else:\n",
        "            # If time format unknown, return NaT (Not a Time)\n",
        "            return pd.NaT\n",
        "\n",
        "# Open zip file and extract all patient data files\n",
        "with zipfile.ZipFile(zip_path, 'r') as zip_ref:\n",
        "    # Filter only files with patient data path pattern\n",
        "    patient_files = [f for f in zip_ref.namelist() if 'Diabetes-Data/data-' in f]\n",
        "    all_dfs = []\n",
        "    for file in patient_files:\n",
        "        # Read each patient file as a dataframe with specified columns\n",
        "        with zip_ref.open(file) as f:\n",
        "            df = pd.read_csv(f, sep='\\t', header=None, names=['date', 'time', 'code', 'value'], dtype=str)\n",
        "            # Add patient_id column using filename to track patient origin\n",
        "            df['patient_id'] = file\n",
        "            all_dfs.append(df)\n",
        "\n",
        "# Combine all patient dataframes into one large dataframe\n",
        "raw_df = pd.concat(all_dfs, ignore_index=True)\n",
        "\n",
        "# Keep only rows with insulin or glucose measurement codes\n",
        "filtered_df = raw_df[raw_df['code'].isin(insulin_codes.union(glucose_codes))].copy()\n",
        "\n",
        "# Apply function to convert date and time columns into single datetime column\n",
        "filtered_df['datetime'] = filtered_df.apply(convert_time, axis=1)\n",
        "\n",
        "# Remove rows where datetime conversion failed (NaT)\n",
        "filtered_df.dropna(subset=['datetime'], inplace=True)\n",
        "\n",
        "# Convert the 'value' column to numeric; convert invalid parsing to NaN\n",
        "filtered_df['value'] = pd.to_numeric(filtered_df['value'], errors='coerce')\n",
        "\n",
        "# Drop rows where 'value' could not be converted to numeric\n",
        "filtered_df.dropna(subset=['value'], inplace=True)\n",
        "\n",
        "# Create a new column to label feature as 'insulin' or 'glucose' based on code\n",
        "filtered_df['feature_type'] = filtered_df['code'].apply(\n",
        "    lambda c: 'insulin' if c in insulin_codes else 'glucose')\n",
        "\n",
        "# Reshape data to wide format: each row is patient_id + datetime with insulin and glucose columns\n",
        "pivot_df = filtered_df.pivot_table(\n",
        "    index=['patient_id', 'datetime'], columns='feature_type', values='value', aggfunc='sum').reset_index()\n",
        "\n",
        "# Fill missing insulin values with 0, assuming no dose given\n",
        "pivot_df['insulin'] = pivot_df['insulin'].fillna(0)\n",
        "\n",
        "# Fill missing glucose values by carrying forward last valid measurement\n",
        "pivot_df['glucose'] = pivot_df['glucose'].fillna(method='ffill')\n",
        "\n",
        "# If glucose still missing (e.g., at start), fill with median glucose value of dataset\n",
        "pivot_df['glucose'].fillna(pivot_df['glucose'].median(), inplace=True)\n",
        "\n",
        "# Explicitly convert insulin and glucose columns to float type\n",
        "pivot_df['insulin'] = pivot_df['insulin'].astype(float)\n",
        "pivot_df['glucose'] = pivot_df['glucose'].astype(float)\n",
        "\n",
        "# Normalize insulin and glucose features using StandardScaler (mean=0, std=1)\n",
        "scaler = StandardScaler()\n",
        "pivot_df[['insulin_norm', 'glucose_norm']] = scaler.fit_transform(pivot_df[['insulin', 'glucose']])\n",
        "\n",
        "# Sort data by patient_id and datetime for ordered analysis\n",
        "pivot_df.sort_values(['patient_id', 'datetime'], inplace=True)\n",
        "pivot_df.reset_index(drop=True, inplace=True)\n",
        "\n",
        "# Output preview of the final prepared dataframe\n",
        "print(pivot_df.head())"
      ]
    },
    {
      "cell_type": "markdown",
      "source": [
        "## Environment Creation"
      ],
      "metadata": {
        "id": "Go4k2x_RHtmC"
      }
    },
    {
      "cell_type": "code",
      "source": [
        "import gymnasium as gym\n",
        "from gymnasium import spaces\n",
        "import numpy as np\n",
        "\n",
        "class DiabetesEnv(gym.Env):\n",
        "    metadata = {'render_modes': ['human']}  # Supported render modes\n",
        "\n",
        "    def __init__(self, data):\n",
        "        super().__init__()\n",
        "        self.data = data\n",
        "        # Extract unique patient IDs from the data\n",
        "        self.patients = data['patient_id'].unique()\n",
        "\n",
        "        # Features used: normalized insulin (related to action), normalized glucose (state)\n",
        "        self.features = ['insulin_norm', 'glucose_norm']\n",
        "\n",
        "        # Define discrete action space: 3 possible insulin dose adjustments\n",
        "        # 0 = no adjustment, 1 = moderate dose, 2 = high dose\n",
        "        self.action_space = spaces.Discrete(3)\n",
        "\n",
        "        # Observation space includes normalized insulin and glucose as continuous values\n",
        "        self.observation_space = spaces.Box(low=-np.inf, high=np.inf, shape=(2,), dtype=np.float32)\n",
        "\n",
        "        # Initialize indices and patient data placeholders\n",
        "        self.current_patient_idx = None\n",
        "        self.current_time_idx = None\n",
        "        self.current_patient_data = None\n",
        "        self.render_mode = None  # Render mode (e.g., 'human')\n",
        "\n",
        "    def reset(self, seed=None, options=None):\n",
        "        super().reset(seed=seed)\n",
        "        # Randomly select a patient index to start\n",
        "        self.current_patient_idx = np.random.randint(len(self.patients))\n",
        "        patient_id = self.patients[self.current_patient_idx]\n",
        "\n",
        "        # Extract data for the selected patient and reset index\n",
        "        self.current_patient_data = self.data[self.data['patient_id'] == patient_id].reset_index(drop=True)\n",
        "        self.current_time_idx = 0  # Start at the first time step\n",
        "\n",
        "        # Return initial state and empty info dict as per gym API\n",
        "        return self._get_state(), {}\n",
        "\n",
        "    def _get_state(self):\n",
        "        # Get feature values for the current timestep as float32 numpy array\n",
        "        row = self.current_patient_data.iloc[self.current_time_idx]\n",
        "        return row[self.features].values.astype(np.float32)\n",
        "\n",
        "    def step(self, action):\n",
        "        # Get current state\n",
        "        current_state = self._get_state()\n",
        "        done = False\n",
        "\n",
        "        # Check if this is the last time step for the current patient\n",
        "        if self.current_time_idx + 1 >= len(self.current_patient_data):\n",
        "            done = True\n",
        "            # If done, next state is zero vector (episode end)\n",
        "            next_state = np.zeros_like(current_state)\n",
        "            reward = 0.0\n",
        "            reward_health = 0.0\n",
        "            side_effect = 0.0\n",
        "            cost = 0.0\n",
        "        else:\n",
        "            # Get next state features from next timestep\n",
        "            next_state = self.current_patient_data.iloc[self.current_time_idx + 1][self.features].values.astype(np.float32)\n",
        "\n",
        "            # Calculate health reward: positive if glucose decreases (improvement)\n",
        "            reward_health = current_state[1] - next_state[1]\n",
        "\n",
        "            # Calculate penalties proportional to action intensity\n",
        "            side_effect = 0.05 * action  # Side effect cost\n",
        "            cost = 1.0 * action  # Treatment cost\n",
        "\n",
        "            # Net reward is health improvement minus side effects and cost\n",
        "            reward = reward_health - side_effect - cost\n",
        "\n",
        "            # Advance time step\n",
        "            self.current_time_idx += 1\n",
        "\n",
        "        # Info dictionary with reward components for diagnostics\n",
        "        info = {\n",
        "            'reward_health': reward_health,\n",
        "            'reward_side_effect': -side_effect,\n",
        "            'reward_cost': -cost\n",
        "        }\n",
        "\n",
        "        # If render mode set to human, display current state info\n",
        "        if self.render_mode == 'human':\n",
        "            self.render()\n",
        "\n",
        "        # Return next state, reward, done flag, truncated flag (False), and info dict\n",
        "        return next_state, float(reward), done, False, info\n",
        "\n",
        "    def render(self):\n",
        "        # Print current patient and time step details\n",
        "        print(f\"Patient: {self.patients[self.current_patient_idx]}, Time Step: {self.current_time_idx}\")\n",
        "        # Print current state feature values\n",
        "        print(f\"Current State (Insulin_norm, Glucose_norm): {self._get_state()}\")"
      ],
      "metadata": {
        "id": "Fw9Xywojqbxo"
      },
      "execution_count": null,
      "outputs": []
    },
    {
      "cell_type": "markdown",
      "source": [
        "# Agent Training - PPO Model"
      ],
      "metadata": {
        "id": "9PnHxNMPH8-2"
      }
    },
    {
      "cell_type": "code",
      "source": [
        "# Install stable-baselines3 with extra dependencies (run once)\n",
        "!pip install stable-baselines3[extra]\n",
        "\n",
        "from stable_baselines3 import PPO  # Import Proximal Policy Optimization algorithm\n",
        "from stable_baselines3.common.env_checker import check_env  # Tool to validate custom gym environments\n",
        "\n",
        "# Assume 'pivot_df' DataFrame and DiabetesEnv class are already defined and loaded from previous steps\n",
        "\n",
        "# Instantiate the custom diabetes environment using the prepared dataset\n",
        "env = DiabetesEnv(pivot_df)\n",
        "\n",
        "# Check that the environment follows Gym API and is compatible with stable-baselines3\n",
        "check_env(env, warn=True)\n",
        "\n",
        "# Create a PPO model with MLP (multi-layer perceptron) policy for function approximation\n",
        "model = PPO(\n",
        "    \"MlpPolicy\",   # Use MLP neural network policy\n",
        "    env,           # Environment to train on\n",
        "    verbose=1,     # Enable logging output for progress monitoring\n",
        "    learning_rate=3e-4,  # Learning rate for optimizer\n",
        "    batch_size=64,       # Mini-batch size for training updates\n",
        "    n_steps=2048,        # Number of steps to run for each environment update\n",
        "    gamma=0.99,          # Discount factor for future rewards\n",
        "    seed=42,             # Random seed for reproducibility\n",
        ")\n",
        "\n",
        "# Train the PPO model for 30,000 time steps (can adjust this value based on convergence)\n",
        "model.learn(total_timesteps=30000)\n",
        "\n",
        "# Save the trained model to disk for future use or evaluation\n",
        "model.save(\"ppo_diabetes_model\")"
      ],
      "metadata": {
        "colab": {
          "base_uri": "https://localhost:8080/"
        },
        "id": "tbI8wHKtqi2K",
        "outputId": "5840000b-847e-4e6a-b6d2-32644e7d7416"
      },
      "execution_count": null,
      "outputs": [
        {
          "output_type": "stream",
          "name": "stdout",
          "text": [
            "Requirement already satisfied: stable-baselines3[extra] in /usr/local/lib/python3.12/dist-packages (2.7.0)\n",
            "Requirement already satisfied: gymnasium<1.3.0,>=0.29.1 in /usr/local/lib/python3.12/dist-packages (from stable-baselines3[extra]) (1.2.0)\n",
            "Requirement already satisfied: numpy<3.0,>=1.20 in /usr/local/lib/python3.12/dist-packages (from stable-baselines3[extra]) (2.0.2)\n",
            "Requirement already satisfied: torch<3.0,>=2.3 in /usr/local/lib/python3.12/dist-packages (from stable-baselines3[extra]) (2.8.0+cu126)\n",
            "Requirement already satisfied: cloudpickle in /usr/local/lib/python3.12/dist-packages (from stable-baselines3[extra]) (3.1.1)\n",
            "Requirement already satisfied: pandas in /usr/local/lib/python3.12/dist-packages (from stable-baselines3[extra]) (2.2.2)\n",
            "Requirement already satisfied: matplotlib in /usr/local/lib/python3.12/dist-packages (from stable-baselines3[extra]) (3.10.0)\n",
            "Requirement already satisfied: opencv-python in /usr/local/lib/python3.12/dist-packages (from stable-baselines3[extra]) (4.12.0.88)\n",
            "Requirement already satisfied: pygame in /usr/local/lib/python3.12/dist-packages (from stable-baselines3[extra]) (2.6.1)\n",
            "Requirement already satisfied: tensorboard>=2.9.1 in /usr/local/lib/python3.12/dist-packages (from stable-baselines3[extra]) (2.19.0)\n",
            "Requirement already satisfied: psutil in /usr/local/lib/python3.12/dist-packages (from stable-baselines3[extra]) (5.9.5)\n",
            "Requirement already satisfied: tqdm in /usr/local/lib/python3.12/dist-packages (from stable-baselines3[extra]) (4.67.1)\n",
            "Requirement already satisfied: rich in /usr/local/lib/python3.12/dist-packages (from stable-baselines3[extra]) (13.9.4)\n",
            "Requirement already satisfied: ale-py>=0.9.0 in /usr/local/lib/python3.12/dist-packages (from stable-baselines3[extra]) (0.11.2)\n",
            "Requirement already satisfied: pillow in /usr/local/lib/python3.12/dist-packages (from stable-baselines3[extra]) (11.3.0)\n",
            "Requirement already satisfied: typing-extensions>=4.3.0 in /usr/local/lib/python3.12/dist-packages (from gymnasium<1.3.0,>=0.29.1->stable-baselines3[extra]) (4.14.1)\n",
            "Requirement already satisfied: farama-notifications>=0.0.1 in /usr/local/lib/python3.12/dist-packages (from gymnasium<1.3.0,>=0.29.1->stable-baselines3[extra]) (0.0.4)\n",
            "Requirement already satisfied: absl-py>=0.4 in /usr/local/lib/python3.12/dist-packages (from tensorboard>=2.9.1->stable-baselines3[extra]) (1.4.0)\n",
            "Requirement already satisfied: grpcio>=1.48.2 in /usr/local/lib/python3.12/dist-packages (from tensorboard>=2.9.1->stable-baselines3[extra]) (1.74.0)\n",
            "Requirement already satisfied: markdown>=2.6.8 in /usr/local/lib/python3.12/dist-packages (from tensorboard>=2.9.1->stable-baselines3[extra]) (3.8.2)\n",
            "Requirement already satisfied: packaging in /usr/local/lib/python3.12/dist-packages (from tensorboard>=2.9.1->stable-baselines3[extra]) (25.0)\n",
            "Requirement already satisfied: protobuf!=4.24.0,>=3.19.6 in /usr/local/lib/python3.12/dist-packages (from tensorboard>=2.9.1->stable-baselines3[extra]) (5.29.5)\n",
            "Requirement already satisfied: setuptools>=41.0.0 in /usr/local/lib/python3.12/dist-packages (from tensorboard>=2.9.1->stable-baselines3[extra]) (75.2.0)\n",
            "Requirement already satisfied: six>1.9 in /usr/local/lib/python3.12/dist-packages (from tensorboard>=2.9.1->stable-baselines3[extra]) (1.17.0)\n",
            "Requirement already satisfied: tensorboard-data-server<0.8.0,>=0.7.0 in /usr/local/lib/python3.12/dist-packages (from tensorboard>=2.9.1->stable-baselines3[extra]) (0.7.2)\n",
            "Requirement already satisfied: werkzeug>=1.0.1 in /usr/local/lib/python3.12/dist-packages (from tensorboard>=2.9.1->stable-baselines3[extra]) (3.1.3)\n",
            "Requirement already satisfied: filelock in /usr/local/lib/python3.12/dist-packages (from torch<3.0,>=2.3->stable-baselines3[extra]) (3.19.1)\n",
            "Requirement already satisfied: sympy>=1.13.3 in /usr/local/lib/python3.12/dist-packages (from torch<3.0,>=2.3->stable-baselines3[extra]) (1.13.3)\n",
            "Requirement already satisfied: networkx in /usr/local/lib/python3.12/dist-packages (from torch<3.0,>=2.3->stable-baselines3[extra]) (3.5)\n",
            "Requirement already satisfied: jinja2 in /usr/local/lib/python3.12/dist-packages (from torch<3.0,>=2.3->stable-baselines3[extra]) (3.1.6)\n",
            "Requirement already satisfied: fsspec in /usr/local/lib/python3.12/dist-packages (from torch<3.0,>=2.3->stable-baselines3[extra]) (2025.3.0)\n",
            "Requirement already satisfied: nvidia-cuda-nvrtc-cu12==12.6.77 in /usr/local/lib/python3.12/dist-packages (from torch<3.0,>=2.3->stable-baselines3[extra]) (12.6.77)\n",
            "Requirement already satisfied: nvidia-cuda-runtime-cu12==12.6.77 in /usr/local/lib/python3.12/dist-packages (from torch<3.0,>=2.3->stable-baselines3[extra]) (12.6.77)\n",
            "Requirement already satisfied: nvidia-cuda-cupti-cu12==12.6.80 in /usr/local/lib/python3.12/dist-packages (from torch<3.0,>=2.3->stable-baselines3[extra]) (12.6.80)\n",
            "Requirement already satisfied: nvidia-cudnn-cu12==9.10.2.21 in /usr/local/lib/python3.12/dist-packages (from torch<3.0,>=2.3->stable-baselines3[extra]) (9.10.2.21)\n",
            "Requirement already satisfied: nvidia-cublas-cu12==12.6.4.1 in /usr/local/lib/python3.12/dist-packages (from torch<3.0,>=2.3->stable-baselines3[extra]) (12.6.4.1)\n",
            "Requirement already satisfied: nvidia-cufft-cu12==11.3.0.4 in /usr/local/lib/python3.12/dist-packages (from torch<3.0,>=2.3->stable-baselines3[extra]) (11.3.0.4)\n",
            "Requirement already satisfied: nvidia-curand-cu12==10.3.7.77 in /usr/local/lib/python3.12/dist-packages (from torch<3.0,>=2.3->stable-baselines3[extra]) (10.3.7.77)\n",
            "Requirement already satisfied: nvidia-cusolver-cu12==11.7.1.2 in /usr/local/lib/python3.12/dist-packages (from torch<3.0,>=2.3->stable-baselines3[extra]) (11.7.1.2)\n",
            "Requirement already satisfied: nvidia-cusparse-cu12==12.5.4.2 in /usr/local/lib/python3.12/dist-packages (from torch<3.0,>=2.3->stable-baselines3[extra]) (12.5.4.2)\n",
            "Requirement already satisfied: nvidia-cusparselt-cu12==0.7.1 in /usr/local/lib/python3.12/dist-packages (from torch<3.0,>=2.3->stable-baselines3[extra]) (0.7.1)\n",
            "Requirement already satisfied: nvidia-nccl-cu12==2.27.3 in /usr/local/lib/python3.12/dist-packages (from torch<3.0,>=2.3->stable-baselines3[extra]) (2.27.3)\n",
            "Requirement already satisfied: nvidia-nvtx-cu12==12.6.77 in /usr/local/lib/python3.12/dist-packages (from torch<3.0,>=2.3->stable-baselines3[extra]) (12.6.77)\n",
            "Requirement already satisfied: nvidia-nvjitlink-cu12==12.6.85 in /usr/local/lib/python3.12/dist-packages (from torch<3.0,>=2.3->stable-baselines3[extra]) (12.6.85)\n",
            "Requirement already satisfied: nvidia-cufile-cu12==1.11.1.6 in /usr/local/lib/python3.12/dist-packages (from torch<3.0,>=2.3->stable-baselines3[extra]) (1.11.1.6)\n",
            "Requirement already satisfied: triton==3.4.0 in /usr/local/lib/python3.12/dist-packages (from torch<3.0,>=2.3->stable-baselines3[extra]) (3.4.0)\n",
            "Requirement already satisfied: contourpy>=1.0.1 in /usr/local/lib/python3.12/dist-packages (from matplotlib->stable-baselines3[extra]) (1.3.3)\n",
            "Requirement already satisfied: cycler>=0.10 in /usr/local/lib/python3.12/dist-packages (from matplotlib->stable-baselines3[extra]) (0.12.1)\n",
            "Requirement already satisfied: fonttools>=4.22.0 in /usr/local/lib/python3.12/dist-packages (from matplotlib->stable-baselines3[extra]) (4.59.1)\n",
            "Requirement already satisfied: kiwisolver>=1.3.1 in /usr/local/lib/python3.12/dist-packages (from matplotlib->stable-baselines3[extra]) (1.4.9)\n",
            "Requirement already satisfied: pyparsing>=2.3.1 in /usr/local/lib/python3.12/dist-packages (from matplotlib->stable-baselines3[extra]) (3.2.3)\n",
            "Requirement already satisfied: python-dateutil>=2.7 in /usr/local/lib/python3.12/dist-packages (from matplotlib->stable-baselines3[extra]) (2.9.0.post0)\n",
            "Requirement already satisfied: pytz>=2020.1 in /usr/local/lib/python3.12/dist-packages (from pandas->stable-baselines3[extra]) (2025.2)\n",
            "Requirement already satisfied: tzdata>=2022.7 in /usr/local/lib/python3.12/dist-packages (from pandas->stable-baselines3[extra]) (2025.2)\n",
            "Requirement already satisfied: markdown-it-py>=2.2.0 in /usr/local/lib/python3.12/dist-packages (from rich->stable-baselines3[extra]) (4.0.0)\n",
            "Requirement already satisfied: pygments<3.0.0,>=2.13.0 in /usr/local/lib/python3.12/dist-packages (from rich->stable-baselines3[extra]) (2.19.2)\n",
            "Requirement already satisfied: mdurl~=0.1 in /usr/local/lib/python3.12/dist-packages (from markdown-it-py>=2.2.0->rich->stable-baselines3[extra]) (0.1.2)\n",
            "Requirement already satisfied: mpmath<1.4,>=1.1.0 in /usr/local/lib/python3.12/dist-packages (from sympy>=1.13.3->torch<3.0,>=2.3->stable-baselines3[extra]) (1.3.0)\n",
            "Requirement already satisfied: MarkupSafe>=2.1.1 in /usr/local/lib/python3.12/dist-packages (from werkzeug>=1.0.1->tensorboard>=2.9.1->stable-baselines3[extra]) (3.0.2)\n",
            "Using cpu device\n",
            "Wrapping the env with a `Monitor` wrapper\n",
            "Wrapping the env in a DummyVecEnv.\n"
          ]
        },
        {
          "output_type": "stream",
          "name": "stderr",
          "text": [
            "/usr/local/lib/python3.12/dist-packages/jupyter_client/session.py:151: DeprecationWarning: datetime.datetime.utcnow() is deprecated and scheduled for removal in a future version. Use timezone-aware objects to represent datetimes in UTC: datetime.datetime.now(datetime.UTC).\n",
            "  return datetime.utcnow().replace(tzinfo=utc)\n",
            "/usr/local/lib/python3.12/dist-packages/jupyter_client/session.py:151: DeprecationWarning: datetime.datetime.utcnow() is deprecated and scheduled for removal in a future version. Use timezone-aware objects to represent datetimes in UTC: datetime.datetime.now(datetime.UTC).\n",
            "  return datetime.utcnow().replace(tzinfo=utc)\n",
            "/usr/local/lib/python3.12/dist-packages/jupyter_client/session.py:151: DeprecationWarning: datetime.datetime.utcnow() is deprecated and scheduled for removal in a future version. Use timezone-aware objects to represent datetimes in UTC: datetime.datetime.now(datetime.UTC).\n",
            "  return datetime.utcnow().replace(tzinfo=utc)\n",
            "/usr/local/lib/python3.12/dist-packages/jupyter_client/session.py:151: DeprecationWarning: datetime.datetime.utcnow() is deprecated and scheduled for removal in a future version. Use timezone-aware objects to represent datetimes in UTC: datetime.datetime.now(datetime.UTC).\n",
            "  return datetime.utcnow().replace(tzinfo=utc)\n",
            "/usr/local/lib/python3.12/dist-packages/jupyter_client/session.py:151: DeprecationWarning: datetime.datetime.utcnow() is deprecated and scheduled for removal in a future version. Use timezone-aware objects to represent datetimes in UTC: datetime.datetime.now(datetime.UTC).\n",
            "  return datetime.utcnow().replace(tzinfo=utc)\n",
            "/usr/local/lib/python3.12/dist-packages/jupyter_client/session.py:151: DeprecationWarning: datetime.datetime.utcnow() is deprecated and scheduled for removal in a future version. Use timezone-aware objects to represent datetimes in UTC: datetime.datetime.now(datetime.UTC).\n",
            "  return datetime.utcnow().replace(tzinfo=utc)\n",
            "/usr/local/lib/python3.12/dist-packages/jupyter_client/session.py:151: DeprecationWarning: datetime.datetime.utcnow() is deprecated and scheduled for removal in a future version. Use timezone-aware objects to represent datetimes in UTC: datetime.datetime.now(datetime.UTC).\n",
            "  return datetime.utcnow().replace(tzinfo=utc)\n",
            "/usr/local/lib/python3.12/dist-packages/jupyter_client/session.py:151: DeprecationWarning: datetime.datetime.utcnow() is deprecated and scheduled for removal in a future version. Use timezone-aware objects to represent datetimes in UTC: datetime.datetime.now(datetime.UTC).\n",
            "  return datetime.utcnow().replace(tzinfo=utc)\n",
            "/usr/local/lib/python3.12/dist-packages/jupyter_client/session.py:151: DeprecationWarning: datetime.datetime.utcnow() is deprecated and scheduled for removal in a future version. Use timezone-aware objects to represent datetimes in UTC: datetime.datetime.now(datetime.UTC).\n",
            "  return datetime.utcnow().replace(tzinfo=utc)\n",
            "/usr/local/lib/python3.12/dist-packages/jupyter_client/session.py:151: DeprecationWarning: datetime.datetime.utcnow() is deprecated and scheduled for removal in a future version. Use timezone-aware objects to represent datetimes in UTC: datetime.datetime.now(datetime.UTC).\n",
            "  return datetime.utcnow().replace(tzinfo=utc)\n",
            "/usr/local/lib/python3.12/dist-packages/jupyter_client/session.py:151: DeprecationWarning: datetime.datetime.utcnow() is deprecated and scheduled for removal in a future version. Use timezone-aware objects to represent datetimes in UTC: datetime.datetime.now(datetime.UTC).\n",
            "  return datetime.utcnow().replace(tzinfo=utc)\n",
            "/usr/local/lib/python3.12/dist-packages/jupyter_client/session.py:151: DeprecationWarning: datetime.datetime.utcnow() is deprecated and scheduled for removal in a future version. Use timezone-aware objects to represent datetimes in UTC: datetime.datetime.now(datetime.UTC).\n",
            "  return datetime.utcnow().replace(tzinfo=utc)\n"
          ]
        },
        {
          "output_type": "stream",
          "name": "stdout",
          "text": [
            "---------------------------------\n",
            "| rollout/           |          |\n",
            "|    ep_len_mean     | 211      |\n",
            "|    ep_rew_mean     | -220     |\n",
            "| time/              |          |\n",
            "|    fps             | 779      |\n",
            "|    iterations      | 1        |\n",
            "|    time_elapsed    | 2        |\n",
            "|    total_timesteps | 2048     |\n",
            "---------------------------------\n"
          ]
        },
        {
          "output_type": "stream",
          "name": "stderr",
          "text": [
            "/usr/local/lib/python3.12/dist-packages/jupyter_client/session.py:151: DeprecationWarning: datetime.datetime.utcnow() is deprecated and scheduled for removal in a future version. Use timezone-aware objects to represent datetimes in UTC: datetime.datetime.now(datetime.UTC).\n",
            "  return datetime.utcnow().replace(tzinfo=utc)\n"
          ]
        }
      ]
    },
    {
      "cell_type": "markdown",
      "source": [
        "## Loading PPO Agent"
      ],
      "metadata": {
        "id": "PQfflyKKIzMs"
      }
    },
    {
      "cell_type": "code",
      "source": [
        "import numpy as np\n",
        "\n",
        "# Load the previously saved PPO model and pass the environment for compatibility\n",
        "model = PPO.load(\"ppo_diabetes_model\", env=env)\n",
        "\n",
        "# Reset the environment to start a new evaluation episode\n",
        "obs, _ = env.reset()\n",
        "done = False\n",
        "\n",
        "# Initialize lists to record rewards, components, actions, and states for analysis\n",
        "rewards = []\n",
        "reward_health = []\n",
        "reward_side_effect = []\n",
        "reward_cost = []\n",
        "actions_taken = []\n",
        "states = []\n",
        "\n",
        "# Run the episode until the environment signals done\n",
        "while not done:\n",
        "    # Predict the next action using the trained model based on current observation\n",
        "    action, _states = model.predict(obs)\n",
        "\n",
        "    # Take the action in the environment, receive next state, reward, done flag, etc.\n",
        "    obs, reward, done, truncated, info = env.step(action)\n",
        "\n",
        "    # Store overall reward\n",
        "    rewards.append(reward)\n",
        "\n",
        "    # Store individual reward components from info dictionary\n",
        "    reward_health.append(info['reward_health'])\n",
        "    # Side effect and cost are stored negative in info, so negate again to get positive penalty values\n",
        "    reward_side_effect.append(-info['reward_side_effect'])\n",
        "    reward_cost.append(-info['reward_cost'])\n",
        "\n",
        "    # Log the action taken and resulting state for further inspection\n",
        "    actions_taken.append(action)\n",
        "    states.append(obs)\n",
        "\n",
        "    # Optional: render the environment's current state for visual inspection\n",
        "    # env.render()\n",
        "\n",
        "# Print summary statistics after episode ends\n",
        "print(f\"Total Episode Reward: {np.sum(rewards):.2f}\")\n",
        "print(f\"Average Reward per Step: {np.mean(rewards):.2f}\")\n",
        "print(f\"Total Health Improvement: {np.sum(reward_health):.2f}\")\n",
        "print(f\"Total Side Effect Penalty: {np.sum(reward_side_effect):.2f}\")\n",
        "print(f\"Total Cost Penalty: {np.sum(reward_cost):.2f}\")"
      ],
      "metadata": {
        "id": "hBD7mFgzrp85"
      },
      "execution_count": null,
      "outputs": []
    },
    {
      "cell_type": "markdown",
      "source": [],
      "metadata": {
        "id": "PunFmEHUJavo"
      }
    },
    {
      "cell_type": "code",
      "source": [
        "import matplotlib.pyplot as plt\n",
        "\n",
        "# Set the figure size for the plot (width=12 inches, height=6 inches)\n",
        "plt.figure(figsize=(12,6))\n",
        "\n",
        "# Plot the health improvement reward over time steps in green\n",
        "plt.plot(reward_health, label='Health Improvement Reward', color='green')\n",
        "\n",
        "# Plot the side effect penalty over time steps in red\n",
        "plt.plot(reward_side_effect, label='Side Effect Penalty', color='red')\n",
        "\n",
        "# Plot the cost penalty over time steps in orange\n",
        "plt.plot(reward_cost, label='Cost Penalty', color='orange')\n",
        "\n",
        "# Label x-axis as time step (episode progression)\n",
        "plt.xlabel('Time Step')\n",
        "\n",
        "# Label y-axis as reward value (can be positive or negative)\n",
        "plt.ylabel('Reward Value')\n",
        "\n",
        "# Set the title of the plot\n",
        "plt.title('Reward Components Over Episode')\n",
        "\n",
        "# Show legend to differentiate the plotted lines\n",
        "plt.legend()\n",
        "\n",
        "# Enable grid for easier reading of values\n",
        "plt.grid(True)\n",
        "\n",
        "# Display the plot\n",
        "plt.show()"
      ],
      "metadata": {
        "id": "1DhvyPgcry9C"
      },
      "execution_count": null,
      "outputs": []
    },
    {
      "cell_type": "code",
      "source": [
        "plt.figure(figsize=(10,4))  # Set figure size (width=10 inches, height=4 inches)\n",
        "\n",
        "# Plot actions taken over time steps as step-wise plot with markers at each step\n",
        "plt.plot(actions_taken, drawstyle='steps-post', marker='o')\n",
        "\n",
        "plt.xlabel('Time Step')  # Label x-axis\n",
        "plt.ylabel('Action Taken (Insulin Dose Level)')  # Label y-axis\n",
        "\n",
        "plt.title('Insulin Dose Actions Taken Over Episode')  # Title of the plot\n",
        "\n",
        "# Set y-axis ticks and labels to represent insulin dose levels clearly\n",
        "plt.yticks([0,1,2], ['No Dose', 'Moderate Dose', 'High Dose'])\n",
        "\n",
        "plt.grid(True)  # Enable grid for readability\n",
        "\n",
        "plt.show()  # Display the plot"
      ],
      "metadata": {
        "id": "VWD3Zxhdr1ET"
      },
      "execution_count": null,
      "outputs": []
    },
    {
      "cell_type": "code",
      "source": [
        "states = np.array(states)  # Convert list of state arrays to a single NumPy array for easier slicing\n",
        "\n",
        "plt.figure(figsize=(12,6))  # Set figure size (width=12 inches, height=6 inches)\n",
        "\n",
        "# Plot normalized glucose values (index 1 in state vector) over time steps in blue\n",
        "plt.plot(states[:,1], label='Normalized Glucose', color='blue')\n",
        "\n",
        "# Plot normalized insulin values (index 0 in state vector) over time steps in purple\n",
        "plt.plot(states[:,0], label='Normalized Insulin', color='purple')\n",
        "\n",
        "plt.xlabel('Time Step')  # Label x-axis\n",
        "plt.ylabel('Normalized Values')  # Label y-axis\n",
        "\n",
        "plt.title('Patient State Trajectory Over Episode')  # Title of the plot\n",
        "\n",
        "plt.legend()  # Display legend to differentiate lines\n",
        "plt.grid(True)  # Enable grid for easier reading\n",
        "plt.show()  # Display the plot"
      ],
      "metadata": {
        "id": "jk4LkOner3Hb"
      },
      "execution_count": null,
      "outputs": []
    },
    {
      "cell_type": "markdown",
      "source": [
        "### Rule Based Agent  "
      ],
      "metadata": {
        "id": "zFHHFl1nLUJB"
      }
    },
    {
      "cell_type": "code",
      "source": [
        "import seaborn as sns\n",
        "import pandas as pd\n",
        "import matplotlib.pyplot as plt\n",
        "\n",
        "# Convert states list to NumPy array with shape (timesteps, 2)\n",
        "states = np.array(states)\n",
        "\n",
        "# Convert actions_taken list to 1D integer NumPy array\n",
        "actions_array = np.array(actions_taken).flatten().astype(int)\n",
        "\n",
        "# Create a DataFrame combining normalized glucose, insulin, and corresponding actions\n",
        "df_actions = pd.DataFrame({\n",
        "    'glucose_norm': states[:, 1],  # normalized glucose values\n",
        "    'insulin_norm': states[:, 0],  # normalized insulin values\n",
        "    'action': actions_array         # discrete action labels\n",
        "})\n",
        "\n",
        "plt.figure(figsize=(8, 6))  # Set figure size\n",
        "\n",
        "# Create scatterplot of insulin vs glucose, colored by the action taken\n",
        "sns.scatterplot(\n",
        "    data=df_actions,\n",
        "    x='glucose_norm',\n",
        "    y='insulin_norm',\n",
        "    hue='action',        # Color points by action category\n",
        "    palette='Set1',      # Color palette for categorical values\n",
        "    alpha=0.7            # Set transparency for better visualization\n",
        ")\n",
        "\n",
        "plt.title('Action Distribution Across State Space')  # Plot title\n",
        "plt.xlabel('Normalized Glucose')                      # X-axis label\n",
        "plt.ylabel('Normalized Insulin')                      # Y-axis label\n",
        "\n",
        "plt.show()  # Display the plot\n",
        "\n",
        "# Print unique action values and their counts for analysis\n",
        "print(np.unique(actions_array, return_counts=True))\n",
        "\n",
        "# Print the dtype of actions_array to verify it is integer\n",
        "print(actions_array.dtype)"
      ],
      "metadata": {
        "id": "1YYYaBzer4-S"
      },
      "execution_count": null,
      "outputs": []
    },
    {
      "cell_type": "markdown",
      "source": [
        "### save PPO Model  "
      ],
      "metadata": {
        "id": "eHqNl8CMJtXs"
      }
    },
    {
      "cell_type": "code",
      "source": [
        "# Instantiate the diabetes environment with the prepared dataset\n",
        "env = DiabetesEnv(pivot_df)\n",
        "\n",
        "from stable_baselines3 import PPO\n",
        "\n",
        "# Load the pre-trained PPO model from the saved zip file, passing the environment for compatibility\n",
        "model = PPO.load(\"/content/ppo_diabetes_model.zip\", env=env)\n",
        "\n",
        "# Optional: further train (fine-tune) the model on the current environment for 5,000 time steps\n",
        "model.learn(total_timesteps=5000)\n",
        "\n",
        "# Save the fine-tuned model to a new file\n",
        "model.save(\"/content/ppo_diabetes_model_finetuned\")"
      ],
      "metadata": {
        "id": "itqX0EQXsrWg"
      },
      "execution_count": null,
      "outputs": []
    },
    {
      "cell_type": "markdown",
      "source": [
        "# Agent Training DQN Model"
      ],
      "metadata": {
        "id": "5udcw4s5J0Zx"
      }
    },
    {
      "cell_type": "code",
      "source": [
        "from stable_baselines3 import DQN  # Import Deep Q-Network algorithm\n",
        "\n",
        "# Instantiate the diabetes environment with the prepared dataset\n",
        "env = DiabetesEnv(pivot_df)\n",
        "\n",
        "# Create a DQN model using MLP policy to interact with the environment\n",
        "dqn_model = DQN('MlpPolicy', env, verbose=1)\n",
        "\n",
        "# Train the DQN model for 30,000 time steps (adjust as needed)\n",
        "dqn_model.learn(total_timesteps=30000)\n",
        "\n",
        "# Save the trained DQN model to disk for later use or evaluation\n",
        "dqn_model.save(\"dqn_diabetes_model\")"
      ],
      "metadata": {
        "id": "FFXr05lizgCO"
      },
      "execution_count": null,
      "outputs": []
    },
    {
      "cell_type": "code",
      "source": [
        "class RuleBasedAgent:\n",
        "    def __init__(self):\n",
        "        pass  # No initialization needed for this simple agent\n",
        "\n",
        "    def act(self, state):\n",
        "        glucose = state[1]  # Extract normalized glucose value from state\n",
        "\n",
        "        # Simple heuristic policy:\n",
        "        if glucose < -0.5:\n",
        "            return 0  # No insulin dose if glucose is low\n",
        "        elif glucose < 0.5:\n",
        "            return 1  # Moderate dose if glucose is moderately high\n",
        "        else:\n",
        "            return 2  # High dose if glucose is high\n",
        "\n",
        "# Example evaluation loop using the rule-based agent\n",
        "agent = RuleBasedAgent()\n",
        "obs, _ = env.reset()  # Reset environment to start\n",
        "done = False\n",
        "rewards = []\n",
        "\n",
        "while not done:\n",
        "    action = agent.act(obs)  # Get action based on current observation/state\n",
        "    obs, reward, done, _, _ = env.step(action)  # Take action in environment\n",
        "    rewards.append(reward)  # Record received reward\n",
        "\n",
        "# Print total reward accumulated over episode\n",
        "print(f\"Rule-Based Total Reward: {sum(rewards)}\")"
      ],
      "metadata": {
        "id": "DfjZTmV-z-26"
      },
      "execution_count": null,
      "outputs": []
    },
    {
      "cell_type": "markdown",
      "source": [
        "# Evaluation"
      ],
      "metadata": {
        "id": "xF-EQEBJKCct"
      }
    },
    {
      "cell_type": "code",
      "source": [
        "def evaluate_model(model, env, episodes=5):\n",
        "    all_rewards = []  # Store total rewards per episode\n",
        "    for ep in range(episodes):\n",
        "        obs, _ = env.reset()  # Reset environment at the start of each episode\n",
        "        done = False\n",
        "        ep_rewards = []  # Rewards collected during the current episode\n",
        "        while not done:\n",
        "            # Predict action using the RL model's policy based on current observation\n",
        "            action, _ = model.predict(obs)\n",
        "            # Take action in environment, receive next state and reward\n",
        "            obs, reward, done, _, _ = env.step(action)\n",
        "            ep_rewards.append(reward)  # Record reward for this step\n",
        "        all_rewards.append(sum(ep_rewards))  # Sum rewards at episode end\n",
        "    return all_rewards  # Return list of total rewards per episode\n",
        "\n",
        "# Evaluate PPO model over 5 episodes\n",
        "ppo_rewards = evaluate_model(model, env)\n",
        "\n",
        "# Evaluate DQN model over 5 episodes\n",
        "dqn_rewards = evaluate_model(dqn_model, env)\n",
        "\n",
        "# Rule-based evaluation results were collected previously in `rewards`\n",
        "\n",
        "import matplotlib.pyplot as plt\n",
        "\n",
        "# Plot average total rewards of each agent type for comparison\n",
        "plt.bar(\n",
        "    ['PPO', 'DQN', 'Rule-Based'],                      # Agent labels\n",
        "    [np.mean(ppo_rewards), np.mean(dqn_rewards), sum(rewards)]  # Average rewards per agent\n",
        ")\n",
        "plt.ylabel('Average Total Reward')  # Y-axis label\n",
        "plt.title('Comparison of RL Agents and Rule-Based Policy')  # Plot title\n",
        "plt.show()  # Display bar chart"
      ],
      "metadata": {
        "id": "9V9Bp0Hu0BGO"
      },
      "execution_count": null,
      "outputs": []
    },
    {
      "cell_type": "code",
      "source": [
        "import matplotlib.pyplot as plt\n",
        "import seaborn as sns\n",
        "\n",
        "plt.figure(figsize=(10,6))  # Set figure size (width=10 inches, height=6 inches)\n",
        "\n",
        "# Plot histogram with KDE (kernel density estimate) of normalized glucose values\n",
        "sns.histplot(\n",
        "    pivot_df['glucose_norm'],  # Data to plot\n",
        "    bins=30,                   # Number of histogram bins\n",
        "    kde=True,                  # Overlay KDE curve\n",
        "    color='blue'               # Bar color\n",
        ")\n",
        "\n",
        "plt.title('Distribution of Normalized Glucose Levels')  # Title of the plot\n",
        "plt.xlabel('Normalized Glucose')                        # X-axis label\n",
        "plt.ylabel('Frequency')                                 # Y-axis label\n",
        "\n",
        "plt.grid(True)  # Enable grid for better readability\n",
        "\n",
        "plt.show()  # Display the plot"
      ],
      "metadata": {
        "id": "u-eNnQdi4aIX"
      },
      "execution_count": null,
      "outputs": []
    },
    {
      "cell_type": "code",
      "source": [
        "# Count the number of observations (rows) per patient_id\n",
        "obs_counts = pivot_df.groupby('patient_id').size()\n",
        "\n",
        "plt.figure(figsize=(10,6))  # Set figure size (width=10 inches, height=6 inches)\n",
        "\n",
        "# Plot histogram of the number of observations per patient\n",
        "sns.histplot(\n",
        "    obs_counts,  # Data: counts of time points per patient\n",
        "    bins=30,     # Number of bins for the histogram\n",
        "    kde=False,   # Do not show KDE curve\n",
        "    color='green'  # Color of the bars\n",
        ")\n",
        "\n",
        "plt.title('Distribution of the Number of Time-Point Observations Recorded per Patient')  # Plot title\n",
        "plt.xlabel('Number of Time Points')  # X-axis label\n",
        "plt.ylabel('Number of Patients')     # Y-axis label\n",
        "\n",
        "plt.grid(True)  # Enable grid lines for better readability\n",
        "\n",
        "plt.show()  # Show the plot"
      ],
      "metadata": {
        "id": "0Ud9j1Bj47Qv"
      },
      "execution_count": null,
      "outputs": []
    }
  ]
}